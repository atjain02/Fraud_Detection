{
 "cells": [
  {
   "cell_type": "code",
   "execution_count": 1,
   "id": "f9c626ad",
   "metadata": {},
   "outputs": [],
   "source": [
    "import pandas as pd\n",
    "import seaborn as sns\n",
    "import os\n",
    "import glob\n",
    "import numpy as np\n",
    "from matplotlib import pyplot as plt"
   ]
  },
  {
   "cell_type": "code",
   "execution_count": 2,
   "id": "23fb6f74",
   "metadata": {},
   "outputs": [],
   "source": [
    "from sklearn.model_selection import train_test_split\n",
    "from sklearn.preprocessing import LabelEncoder"
   ]
  },
  {
   "cell_type": "code",
   "execution_count": 3,
   "id": "4469492c",
   "metadata": {},
   "outputs": [],
   "source": [
    "##Data exploration and Cleansing"
   ]
  },
  {
   "cell_type": "code",
   "execution_count": 4,
   "id": "f2b96e34",
   "metadata": {},
   "outputs": [
    {
     "data": {
      "text/html": [
       "<div>\n",
       "<style scoped>\n",
       "    .dataframe tbody tr th:only-of-type {\n",
       "        vertical-align: middle;\n",
       "    }\n",
       "\n",
       "    .dataframe tbody tr th {\n",
       "        vertical-align: top;\n",
       "    }\n",
       "\n",
       "    .dataframe thead th {\n",
       "        text-align: right;\n",
       "    }\n",
       "</style>\n",
       "<table border=\"1\" class=\"dataframe\">\n",
       "  <thead>\n",
       "    <tr style=\"text-align: right;\">\n",
       "      <th></th>\n",
       "      <th>step</th>\n",
       "      <th>type</th>\n",
       "      <th>amount</th>\n",
       "      <th>nameOrig</th>\n",
       "      <th>oldbalanceOrg</th>\n",
       "      <th>newbalanceOrig</th>\n",
       "      <th>nameDest</th>\n",
       "      <th>oldbalanceDest</th>\n",
       "      <th>newbalanceDest</th>\n",
       "      <th>isFraud</th>\n",
       "      <th>isFlaggedFraud</th>\n",
       "    </tr>\n",
       "  </thead>\n",
       "  <tbody>\n",
       "    <tr>\n",
       "      <th>0</th>\n",
       "      <td>1</td>\n",
       "      <td>PAYMENT</td>\n",
       "      <td>9839.64</td>\n",
       "      <td>C1231006815</td>\n",
       "      <td>170136.0</td>\n",
       "      <td>160296.36</td>\n",
       "      <td>M1979787155</td>\n",
       "      <td>0.0</td>\n",
       "      <td>0.0</td>\n",
       "      <td>0</td>\n",
       "      <td>0</td>\n",
       "    </tr>\n",
       "    <tr>\n",
       "      <th>1</th>\n",
       "      <td>1</td>\n",
       "      <td>PAYMENT</td>\n",
       "      <td>1864.28</td>\n",
       "      <td>C1666544295</td>\n",
       "      <td>21249.0</td>\n",
       "      <td>19384.72</td>\n",
       "      <td>M2044282225</td>\n",
       "      <td>0.0</td>\n",
       "      <td>0.0</td>\n",
       "      <td>0</td>\n",
       "      <td>0</td>\n",
       "    </tr>\n",
       "    <tr>\n",
       "      <th>2</th>\n",
       "      <td>1</td>\n",
       "      <td>TRANSFER</td>\n",
       "      <td>181.00</td>\n",
       "      <td>C1305486145</td>\n",
       "      <td>181.0</td>\n",
       "      <td>0.00</td>\n",
       "      <td>C553264065</td>\n",
       "      <td>0.0</td>\n",
       "      <td>0.0</td>\n",
       "      <td>1</td>\n",
       "      <td>0</td>\n",
       "    </tr>\n",
       "    <tr>\n",
       "      <th>3</th>\n",
       "      <td>1</td>\n",
       "      <td>CASH_OUT</td>\n",
       "      <td>181.00</td>\n",
       "      <td>C840083671</td>\n",
       "      <td>181.0</td>\n",
       "      <td>0.00</td>\n",
       "      <td>C38997010</td>\n",
       "      <td>21182.0</td>\n",
       "      <td>0.0</td>\n",
       "      <td>1</td>\n",
       "      <td>0</td>\n",
       "    </tr>\n",
       "    <tr>\n",
       "      <th>4</th>\n",
       "      <td>1</td>\n",
       "      <td>PAYMENT</td>\n",
       "      <td>11668.14</td>\n",
       "      <td>C2048537720</td>\n",
       "      <td>41554.0</td>\n",
       "      <td>29885.86</td>\n",
       "      <td>M1230701703</td>\n",
       "      <td>0.0</td>\n",
       "      <td>0.0</td>\n",
       "      <td>0</td>\n",
       "      <td>0</td>\n",
       "    </tr>\n",
       "  </tbody>\n",
       "</table>\n",
       "</div>"
      ],
      "text/plain": [
       "   step      type    amount     nameOrig  oldbalanceOrg  newbalanceOrig  \\\n",
       "0     1   PAYMENT   9839.64  C1231006815       170136.0       160296.36   \n",
       "1     1   PAYMENT   1864.28  C1666544295        21249.0        19384.72   \n",
       "2     1  TRANSFER    181.00  C1305486145          181.0            0.00   \n",
       "3     1  CASH_OUT    181.00   C840083671          181.0            0.00   \n",
       "4     1   PAYMENT  11668.14  C2048537720        41554.0        29885.86   \n",
       "\n",
       "      nameDest  oldbalanceDest  newbalanceDest  isFraud  isFlaggedFraud  \n",
       "0  M1979787155             0.0             0.0        0               0  \n",
       "1  M2044282225             0.0             0.0        0               0  \n",
       "2   C553264065             0.0             0.0        1               0  \n",
       "3    C38997010         21182.0             0.0        1               0  \n",
       "4  M1230701703             0.0             0.0        0               0  "
      ]
     },
     "execution_count": 4,
     "metadata": {},
     "output_type": "execute_result"
    }
   ],
   "source": [
    "df = pd.read_csv('Fraud.csv')\n",
    "df.head()"
   ]
  },
  {
   "cell_type": "code",
   "execution_count": 5,
   "id": "c88afc31",
   "metadata": {},
   "outputs": [
    {
     "data": {
      "text/plain": [
       "(6362620, 11)"
      ]
     },
     "execution_count": 5,
     "metadata": {},
     "output_type": "execute_result"
    }
   ],
   "source": [
    "df.shape"
   ]
  },
  {
   "cell_type": "code",
   "execution_count": 6,
   "id": "c5510ce3",
   "metadata": {},
   "outputs": [
    {
     "data": {
      "text/html": [
       "<div>\n",
       "<style scoped>\n",
       "    .dataframe tbody tr th:only-of-type {\n",
       "        vertical-align: middle;\n",
       "    }\n",
       "\n",
       "    .dataframe tbody tr th {\n",
       "        vertical-align: top;\n",
       "    }\n",
       "\n",
       "    .dataframe thead th {\n",
       "        text-align: right;\n",
       "    }\n",
       "</style>\n",
       "<table border=\"1\" class=\"dataframe\">\n",
       "  <thead>\n",
       "    <tr style=\"text-align: right;\">\n",
       "      <th></th>\n",
       "      <th>step</th>\n",
       "      <th>amount</th>\n",
       "      <th>oldbalanceOrg</th>\n",
       "      <th>newbalanceOrig</th>\n",
       "      <th>oldbalanceDest</th>\n",
       "      <th>newbalanceDest</th>\n",
       "    </tr>\n",
       "  </thead>\n",
       "  <tbody>\n",
       "    <tr>\n",
       "      <th>count</th>\n",
       "      <td>6362620.0</td>\n",
       "      <td>6362620.0</td>\n",
       "      <td>6362620.0</td>\n",
       "      <td>6362620.0</td>\n",
       "      <td>6362620.0</td>\n",
       "      <td>6362620.0</td>\n",
       "    </tr>\n",
       "    <tr>\n",
       "      <th>mean</th>\n",
       "      <td>243.4</td>\n",
       "      <td>179861.9</td>\n",
       "      <td>833883.1</td>\n",
       "      <td>855113.7</td>\n",
       "      <td>1100701.7</td>\n",
       "      <td>1224996.4</td>\n",
       "    </tr>\n",
       "    <tr>\n",
       "      <th>std</th>\n",
       "      <td>142.3</td>\n",
       "      <td>603858.2</td>\n",
       "      <td>2888242.7</td>\n",
       "      <td>2924048.5</td>\n",
       "      <td>3399180.1</td>\n",
       "      <td>3674128.9</td>\n",
       "    </tr>\n",
       "    <tr>\n",
       "      <th>min</th>\n",
       "      <td>1.0</td>\n",
       "      <td>0.0</td>\n",
       "      <td>0.0</td>\n",
       "      <td>0.0</td>\n",
       "      <td>0.0</td>\n",
       "      <td>0.0</td>\n",
       "    </tr>\n",
       "    <tr>\n",
       "      <th>25%</th>\n",
       "      <td>156.0</td>\n",
       "      <td>13389.6</td>\n",
       "      <td>0.0</td>\n",
       "      <td>0.0</td>\n",
       "      <td>0.0</td>\n",
       "      <td>0.0</td>\n",
       "    </tr>\n",
       "    <tr>\n",
       "      <th>50%</th>\n",
       "      <td>239.0</td>\n",
       "      <td>74871.9</td>\n",
       "      <td>14208.0</td>\n",
       "      <td>0.0</td>\n",
       "      <td>132705.7</td>\n",
       "      <td>214661.4</td>\n",
       "    </tr>\n",
       "    <tr>\n",
       "      <th>75%</th>\n",
       "      <td>335.0</td>\n",
       "      <td>208721.5</td>\n",
       "      <td>107315.2</td>\n",
       "      <td>144258.4</td>\n",
       "      <td>943036.7</td>\n",
       "      <td>1111909.2</td>\n",
       "    </tr>\n",
       "    <tr>\n",
       "      <th>max</th>\n",
       "      <td>743.0</td>\n",
       "      <td>92445516.6</td>\n",
       "      <td>59585040.4</td>\n",
       "      <td>49585040.4</td>\n",
       "      <td>356015889.4</td>\n",
       "      <td>356179278.9</td>\n",
       "    </tr>\n",
       "  </tbody>\n",
       "</table>\n",
       "</div>"
      ],
      "text/plain": [
       "            step      amount oldbalanceOrg newbalanceOrig oldbalanceDest  \\\n",
       "count  6362620.0   6362620.0     6362620.0      6362620.0      6362620.0   \n",
       "mean       243.4    179861.9      833883.1       855113.7      1100701.7   \n",
       "std        142.3    603858.2     2888242.7      2924048.5      3399180.1   \n",
       "min          1.0         0.0           0.0            0.0            0.0   \n",
       "25%        156.0     13389.6           0.0            0.0            0.0   \n",
       "50%        239.0     74871.9       14208.0            0.0       132705.7   \n",
       "75%        335.0    208721.5      107315.2       144258.4       943036.7   \n",
       "max        743.0  92445516.6    59585040.4     49585040.4    356015889.4   \n",
       "\n",
       "      newbalanceDest  \n",
       "count      6362620.0  \n",
       "mean       1224996.4  \n",
       "std        3674128.9  \n",
       "min              0.0  \n",
       "25%              0.0  \n",
       "50%         214661.4  \n",
       "75%        1111909.2  \n",
       "max      356179278.9  "
      ]
     },
     "execution_count": 6,
     "metadata": {},
     "output_type": "execute_result"
    }
   ],
   "source": [
    "dfNumbers = df.drop([\"type\", \"nameOrig\", \"nameDest\", \"isFraud\", \"isFlaggedFraud\"], axis = 1)\n",
    "dfNumbers.describe().apply(lambda s: s.apply('{0:.1f}'.format))"
   ]
  },
  {
   "cell_type": "code",
   "execution_count": 7,
   "id": "035f5eea",
   "metadata": {},
   "outputs": [
    {
     "data": {
      "text/html": [
       "<div>\n",
       "<style scoped>\n",
       "    .dataframe tbody tr th:only-of-type {\n",
       "        vertical-align: middle;\n",
       "    }\n",
       "\n",
       "    .dataframe tbody tr th {\n",
       "        vertical-align: top;\n",
       "    }\n",
       "\n",
       "    .dataframe thead th {\n",
       "        text-align: right;\n",
       "    }\n",
       "</style>\n",
       "<table border=\"1\" class=\"dataframe\">\n",
       "  <thead>\n",
       "    <tr style=\"text-align: right;\">\n",
       "      <th></th>\n",
       "      <th>type</th>\n",
       "      <th>nameOrig</th>\n",
       "      <th>nameDest</th>\n",
       "      <th>isFraud</th>\n",
       "      <th>isFlaggedFraud</th>\n",
       "    </tr>\n",
       "  </thead>\n",
       "  <tbody>\n",
       "    <tr>\n",
       "      <th>count</th>\n",
       "      <td>6362620</td>\n",
       "      <td>6362620</td>\n",
       "      <td>6362620</td>\n",
       "      <td>6362620</td>\n",
       "      <td>6362620</td>\n",
       "    </tr>\n",
       "    <tr>\n",
       "      <th>unique</th>\n",
       "      <td>5</td>\n",
       "      <td>6353307</td>\n",
       "      <td>2722362</td>\n",
       "      <td>2</td>\n",
       "      <td>2</td>\n",
       "    </tr>\n",
       "    <tr>\n",
       "      <th>top</th>\n",
       "      <td>CASH_OUT</td>\n",
       "      <td>C1902386530</td>\n",
       "      <td>C1286084959</td>\n",
       "      <td>0</td>\n",
       "      <td>0</td>\n",
       "    </tr>\n",
       "    <tr>\n",
       "      <th>freq</th>\n",
       "      <td>2237500</td>\n",
       "      <td>3</td>\n",
       "      <td>113</td>\n",
       "      <td>6354407</td>\n",
       "      <td>6362604</td>\n",
       "    </tr>\n",
       "  </tbody>\n",
       "</table>\n",
       "</div>"
      ],
      "text/plain": [
       "            type     nameOrig     nameDest  isFraud  isFlaggedFraud\n",
       "count    6362620      6362620      6362620  6362620         6362620\n",
       "unique         5      6353307      2722362        2               2\n",
       "top     CASH_OUT  C1902386530  C1286084959        0               0\n",
       "freq     2237500            3          113  6354407         6362604"
      ]
     },
     "execution_count": 7,
     "metadata": {},
     "output_type": "execute_result"
    }
   ],
   "source": [
    "dfOther = df.drop([\"step\", \"amount\", \"oldbalanceOrg\", \"newbalanceOrig\", \"oldbalanceDest\", \"newbalanceDest\"], axis=1)\n",
    "dfOther.astype('object').describe()"
   ]
  },
  {
   "cell_type": "code",
   "execution_count": 8,
   "id": "11dc4c29",
   "metadata": {},
   "outputs": [
    {
     "data": {
      "text/plain": [
       "(6362620, 11)"
      ]
     },
     "execution_count": 8,
     "metadata": {},
     "output_type": "execute_result"
    }
   ],
   "source": [
    "#No duplicate rows\n",
    "dftemp = df.drop_duplicates()\n",
    "dftemp.shape"
   ]
  },
  {
   "cell_type": "code",
   "execution_count": 9,
   "id": "301d5d6b",
   "metadata": {},
   "outputs": [
    {
     "name": "stdout",
     "output_type": "stream",
     "text": [
      "The number of entries flagged fraud is  16\n"
     ]
    },
    {
     "data": {
      "image/png": "[encoded data removed]",
      "text/plain": [
       "<Figure size 432x288 with 1 Axes>"
      ]
     },
     "metadata": {
      "needs_background": "light"
     },
     "output_type": "display_data"
    }
   ],
   "source": [
    "#Very little entries are being flagged as fraud currently\n",
    "df_lastCol = df.loc[:,\"isFlaggedFraud\"]\n",
    "df_lastCol.hist()\n",
    "print(\"The number of entries flagged fraud is \", df_lastCol.sum())"
   ]
  },
  {
   "cell_type": "code",
   "execution_count": 10,
   "id": "3db1172d",
   "metadata": {},
   "outputs": [
    {
     "name": "stdout",
     "output_type": "stream",
     "text": [
      "         step      type       amount     nameOrig  oldbalanceOrg  \\\n",
      "2736446   212  TRANSFER   4953893.08   C728984460     4953893.08   \n",
      "3247297   250  TRANSFER   1343002.08  C1100582606     1343002.08   \n",
      "3760288   279  TRANSFER    536624.41  C1035541766      536624.41   \n",
      "5563713   387  TRANSFER   4892193.09   C908544136     4892193.09   \n",
      "5996407   425  TRANSFER  10000000.00   C689608084    19585040.37   \n",
      "5996409   425  TRANSFER   9585040.37   C452586515    19585040.37   \n",
      "6168499   554  TRANSFER   3576297.10   C193696150     3576297.10   \n",
      "6205439   586  TRANSFER    353874.22  C1684585475      353874.22   \n",
      "6266413   617  TRANSFER   2542664.27   C786455622     2542664.27   \n",
      "6281482   646  TRANSFER  10000000.00    C19004745    10399045.08   \n",
      "6281484   646  TRANSFER    399045.08   C724693370    10399045.08   \n",
      "6296014   671  TRANSFER   3441041.46   C917414431     3441041.46   \n",
      "6351225   702  TRANSFER   3171085.59  C1892216157     3171085.59   \n",
      "6362460   730  TRANSFER  10000000.00  C2140038573    17316255.05   \n",
      "6362462   730  TRANSFER   7316255.05  C1869569059    17316255.05   \n",
      "6362584   741  TRANSFER   5674547.89   C992223106     5674547.89   \n",
      "\n",
      "         newbalanceOrig     nameDest  oldbalanceDest  newbalanceDest  isFraud  \\\n",
      "2736446      4953893.08   C639921569             0.0             0.0        1   \n",
      "3247297      1343002.08  C1147517658             0.0             0.0        1   \n",
      "3760288       536624.41  C1100697970             0.0             0.0        1   \n",
      "5563713      4892193.09   C891140444             0.0             0.0        1   \n",
      "5996407     19585040.37  C1392803603             0.0             0.0        1   \n",
      "5996409     19585040.37  C1109166882             0.0             0.0        1   \n",
      "6168499      3576297.10   C484597480             0.0             0.0        1   \n",
      "6205439       353874.22  C1770418982             0.0             0.0        1   \n",
      "6266413      2542664.27   C661958277             0.0             0.0        1   \n",
      "6281482     10399045.08  C1806199534             0.0             0.0        1   \n",
      "6281484     10399045.08  C1909486199             0.0             0.0        1   \n",
      "6296014      3441041.46  C1082139865             0.0             0.0        1   \n",
      "6351225      3171085.59  C1308068787             0.0             0.0        1   \n",
      "6362460     17316255.05  C1395467927             0.0             0.0        1   \n",
      "6362462     17316255.05  C1861208726             0.0             0.0        1   \n",
      "6362584      5674547.89  C1366804249             0.0             0.0        1   \n",
      "\n",
      "         isFlaggedFraud  \n",
      "2736446               1  \n",
      "3247297               1  \n",
      "3760288               1  \n",
      "5563713               1  \n",
      "5996407               1  \n",
      "5996409               1  \n",
      "6168499               1  \n",
      "6205439               1  \n",
      "6266413               1  \n",
      "6281482               1  \n",
      "6281484               1  \n",
      "6296014               1  \n",
      "6351225               1  \n",
      "6362460               1  \n",
      "6362462               1  \n",
      "6362584               1  \n"
     ]
    }
   ],
   "source": [
    "# Every entry that is currently flagged fraud is fraud (no false fraud postives)\n",
    "print(df.loc[df[\"isFlaggedFraud\"] == 1])"
   ]
  },
  {
   "cell_type": "code",
   "execution_count": 11,
   "id": "cf6fc1ca",
   "metadata": {},
   "outputs": [
    {
     "name": "stdout",
     "output_type": "stream",
     "text": [
      "CASH_OUT    2237500\n",
      "PAYMENT     2151495\n",
      "CASH_IN     1399284\n",
      "TRANSFER     532909\n",
      "DEBIT         41432\n",
      "Name: type, dtype: int64\n"
     ]
    }
   ],
   "source": [
    "df.head()\n",
    "print(df.type.value_counts())"
   ]
  },
  {
   "cell_type": "code",
   "execution_count": 12,
   "id": "973e1530",
   "metadata": {},
   "outputs": [
    {
     "data": {
      "text/plain": [
       "step              0\n",
       "type              0\n",
       "amount            0\n",
       "nameOrig          0\n",
       "oldbalanceOrg     0\n",
       "newbalanceOrig    0\n",
       "nameDest          0\n",
       "oldbalanceDest    0\n",
       "newbalanceDest    0\n",
       "isFraud           0\n",
       "isFlaggedFraud    0\n",
       "dtype: int64"
      ]
     },
     "execution_count": 12,
     "metadata": {},
     "output_type": "execute_result"
    }
   ],
   "source": [
    "#This block shows that there are no null entries\n",
    "df.isnull().sum()"
   ]
  },
  {
   "cell_type": "code",
   "execution_count": 13,
   "id": "c35a7708",
   "metadata": {},
   "outputs": [
    {
     "data": {
      "text/plain": [
       "<AxesSubplot:>"
      ]
     },
     "execution_count": 13,
     "metadata": {},
     "output_type": "execute_result"
    },
    {
     "data": {
      "image/png": "[encoded data removed]",
      "text/plain": [
       "<Figure size 432x288 with 2 Axes>"
      ]
     },
     "metadata": {
      "needs_background": "light"
     },
     "output_type": "display_data"
    }
   ],
   "source": [
    "correlation = df.corr()\n",
    "sns.heatmap(correlation)\n",
    "#Only visible correlation of isFraud is with amount \n",
    "\n",
    "#In terms of multi-colinearity, oldbalanceDest and newbalanceDest are highly related, which makes sense, but \n",
    "#will be bad for our model\n",
    "#Also, amount is moderately related with oldbalanceDest and newbalanceDest, which also makes sense\n",
    "#The lack of correlation between oldbalanceOrg and newbalanceOrig suggests that something is wrong with the dataset \n",
    "#as those two columns should be highly-related"
   ]
  },
  {
   "cell_type": "code",
   "execution_count": 15,
   "id": "def40e6d",
   "metadata": {},
   "outputs": [
    {
     "data": {
      "text/plain": [
       "CASH_OUT    4116\n",
       "TRANSFER    4097\n",
       "Name: type, dtype: int64"
      ]
     },
     "execution_count": 15,
     "metadata": {},
     "output_type": "execute_result"
    }
   ],
   "source": [
    "df_onlyFraud = df.loc[df[\"isFraud\"] == 1]\n",
    "df_onlyFraud.to_csv(\"data.csv\")  \n",
    "(df_onlyFraud.type.value_counts())\n",
    "#Conlusion: Only transfers and cash_outs are fraudulent, and about the same amount of each exist \n"
   ]
  },
  {
   "cell_type": "code",
   "execution_count": 16,
   "id": "07a9c79a",
   "metadata": {},
   "outputs": [
    {
     "data": {
      "text/html": [
       "<div>\n",
       "<style scoped>\n",
       "    .dataframe tbody tr th:only-of-type {\n",
       "        vertical-align: middle;\n",
       "    }\n",
       "\n",
       "    .dataframe tbody tr th {\n",
       "        vertical-align: top;\n",
       "    }\n",
       "\n",
       "    .dataframe thead th {\n",
       "        text-align: right;\n",
       "    }\n",
       "</style>\n",
       "<table border=\"1\" class=\"dataframe\">\n",
       "  <thead>\n",
       "    <tr style=\"text-align: right;\">\n",
       "      <th></th>\n",
       "      <th>step</th>\n",
       "      <th>type</th>\n",
       "      <th>amount</th>\n",
       "      <th>nameOrig</th>\n",
       "      <th>oldbalanceOrg</th>\n",
       "      <th>newbalanceOrig</th>\n",
       "      <th>nameDest</th>\n",
       "      <th>oldbalanceDest</th>\n",
       "      <th>newbalanceDest</th>\n",
       "      <th>isFraud</th>\n",
       "      <th>isFlaggedFraud</th>\n",
       "    </tr>\n",
       "  </thead>\n",
       "  <tbody>\n",
       "    <tr>\n",
       "      <th>0</th>\n",
       "      <td>1</td>\n",
       "      <td>3</td>\n",
       "      <td>9839.64</td>\n",
       "      <td>C1231006815</td>\n",
       "      <td>170136.0</td>\n",
       "      <td>160296.36</td>\n",
       "      <td>M1979787155</td>\n",
       "      <td>0.0</td>\n",
       "      <td>0.0</td>\n",
       "      <td>0</td>\n",
       "      <td>0</td>\n",
       "    </tr>\n",
       "    <tr>\n",
       "      <th>1</th>\n",
       "      <td>1</td>\n",
       "      <td>3</td>\n",
       "      <td>1864.28</td>\n",
       "      <td>C1666544295</td>\n",
       "      <td>21249.0</td>\n",
       "      <td>19384.72</td>\n",
       "      <td>M2044282225</td>\n",
       "      <td>0.0</td>\n",
       "      <td>0.0</td>\n",
       "      <td>0</td>\n",
       "      <td>0</td>\n",
       "    </tr>\n",
       "    <tr>\n",
       "      <th>2</th>\n",
       "      <td>1</td>\n",
       "      <td>4</td>\n",
       "      <td>181.00</td>\n",
       "      <td>C1305486145</td>\n",
       "      <td>181.0</td>\n",
       "      <td>0.00</td>\n",
       "      <td>C553264065</td>\n",
       "      <td>0.0</td>\n",
       "      <td>0.0</td>\n",
       "      <td>1</td>\n",
       "      <td>0</td>\n",
       "    </tr>\n",
       "    <tr>\n",
       "      <th>3</th>\n",
       "      <td>1</td>\n",
       "      <td>1</td>\n",
       "      <td>181.00</td>\n",
       "      <td>C840083671</td>\n",
       "      <td>181.0</td>\n",
       "      <td>0.00</td>\n",
       "      <td>C38997010</td>\n",
       "      <td>21182.0</td>\n",
       "      <td>0.0</td>\n",
       "      <td>1</td>\n",
       "      <td>0</td>\n",
       "    </tr>\n",
       "    <tr>\n",
       "      <th>4</th>\n",
       "      <td>1</td>\n",
       "      <td>3</td>\n",
       "      <td>11668.14</td>\n",
       "      <td>C2048537720</td>\n",
       "      <td>41554.0</td>\n",
       "      <td>29885.86</td>\n",
       "      <td>M1230701703</td>\n",
       "      <td>0.0</td>\n",
       "      <td>0.0</td>\n",
       "      <td>0</td>\n",
       "      <td>0</td>\n",
       "    </tr>\n",
       "  </tbody>\n",
       "</table>\n",
       "</div>"
      ],
      "text/plain": [
       "   step  type    amount     nameOrig  oldbalanceOrg  newbalanceOrig  \\\n",
       "0     1     3   9839.64  C1231006815       170136.0       160296.36   \n",
       "1     1     3   1864.28  C1666544295        21249.0        19384.72   \n",
       "2     1     4    181.00  C1305486145          181.0            0.00   \n",
       "3     1     1    181.00   C840083671          181.0            0.00   \n",
       "4     1     3  11668.14  C2048537720        41554.0        29885.86   \n",
       "\n",
       "      nameDest  oldbalanceDest  newbalanceDest  isFraud  isFlaggedFraud  \n",
       "0  M1979787155             0.0             0.0        0               0  \n",
       "1  M2044282225             0.0             0.0        0               0  \n",
       "2   C553264065             0.0             0.0        1               0  \n",
       "3    C38997010         21182.0             0.0        1               0  \n",
       "4  M1230701703             0.0             0.0        0               0  "
      ]
     },
     "execution_count": 16,
     "metadata": {},
     "output_type": "execute_result"
    }
   ],
   "source": [
    "#Encode the type of transaction into numbers\n",
    "le_type = LabelEncoder()\n",
    "df[\"type\"] = le_type.fit_transform(df[\"type\"])"
   ]
  },
  {
   "cell_type": "code",
   "execution_count": 65,
   "id": "7862020f",
   "metadata": {},
   "outputs": [
    {
     "name": "stdout",
     "output_type": "stream",
     "text": [
      "We have reduced the number of possible fraudulent entries to 2770409\n"
     ]
    }
   ],
   "source": [
    "#Remove the other types of transactions from the dataframe, because they can never be fraud\n",
    "# We are keeping only 4 = \"Transfer\" and 1 = \"Cash_Out\"\n",
    "df = df.loc[(df[\"type\"] == 4) | (df[\"type\"] == 1)]\n",
    "print(\"We have reduced the number of possible fraudulent entries to\",len(df_possibleFraud))"
   ]
  },
  {
   "cell_type": "code",
   "execution_count": 66,
   "id": "420b05ff",
   "metadata": {},
   "outputs": [
    {
     "name": "stdout",
     "output_type": "stream",
     "text": [
      "0\n",
      "0\n",
      "0\n",
      "0\n",
      "0\n"
     ]
    }
   ],
   "source": [
    "print(sum(df[\"amount\"] < 0))\n",
    "print(sum(df[\"oldbalanceOrg\"] < 0))\n",
    "print(sum(df[\"newbalanceOrig\"] < 0))\n",
    "print(sum(df[\"oldbalanceDest\"] < 0))\n",
    "print(sum(df[\"newbalanceDest\"] < 0))\n",
    "#There are 0 negative entries in the numerical columns"
   ]
  },
  {
   "cell_type": "code",
   "execution_count": 104,
   "id": "c4c7e716",
   "metadata": {},
   "outputs": [
    {
     "name": "stdout",
     "output_type": "stream",
     "text": [
      "The percentage of entries that have an error in the origin balances is  90.97685576389624\n",
      "The percentage of entries that have an error in the destination balances is  42.09429004887004\n"
     ]
    }
   ],
   "source": [
    "#Looking ito the lack of correlation in the oldbalanceOrg and newbalanceOrig columns\n",
    "df_errorOrig = df[df['amount'] + df[\"newbalanceOrig\"] != df[\"oldbalanceOrg\"]]\n",
    "print(\"The percentage of entries that have an error in the origin balances is \", len(df_errorOrig)/len(df) * 100)\n",
    "df_errorDest = df[df['amount'] + df[\"oldbalanceDest\"] != df[\"newbalanceDest\"]]\n",
    "print(\"The percentage of entries that have an error in the destination balances is \",len(df_errorDest)/len(df)*100)"
   ]
  },
  {
   "cell_type": "code",
   "execution_count": 141,
   "id": "cf564b1b",
   "metadata": {},
   "outputs": [],
   "source": [
    "#Create new columns to keep track of which rows have errors in the origin and destination balances\n",
    "df[\"error_origin\"] = 0\n",
    "df.loc[(df['amount'] + df[\"newbalanceOrig\"] != df[\"oldbalanceOrg\"]), 'error_origin'] = 1\n",
    "df[\"error_dest\"] = 0\n",
    "df.loc[(df['amount'] + df[\"oldbalanceDest\"] != df[\"newbalanceDest\"]), 'error_dest'] = 1"
   ]
  },
  {
   "cell_type": "code",
   "execution_count": 142,
   "id": "82175f98",
   "metadata": {},
   "outputs": [
    {
     "name": "stdout",
     "output_type": "stream",
     "text": [
      "The percentage of fraud transactions that have an error in origin balance is  0.6940216729575064\n",
      "The percentage of fraud transactions that have an error in destination balance is  64.82405941799585\n"
     ]
    }
   ],
   "source": [
    "#Look at the correlation of these new columsn with fraud transactions\n",
    "df_errorOrigFraud = df[(df[\"error_origin\"]==1) & (df[\"isFraud\"]==1)]\n",
    "df_errorDestFraud = df[(df[\"error_dest\"]==1) & (df[\"isFraud\"]==1)]\n",
    "frauds = len(df[df[\"isFraud\"] == 1])\n",
    "print(\"The percentage of fraud transactions that have an error in origin balance is \", len(df_errorOrigFraud)/frauds * 100)\n",
    "print(\"The percentage of fraud transactions that have an error in destination balance is \", len(df_errorDestFraud)/frauds *100)"
   ]
  },
  {
   "cell_type": "code",
   "execution_count": 167,
   "id": "8a2adfb8",
   "metadata": {},
   "outputs": [],
   "source": [
    "##Model\n",
    "\n",
    "#Variable choice:\n",
    "# I chose to drop nameOrig and nameDest because they displayed no long-term trend or correlation with fraud entries. \n",
    "# As shown in the statistics at the beginning of the notebook, not many repeat names are present anyways\n",
    "\n",
    "# I chose to replace oldbalanceDest and newbalanceDest with the boolean column error_dest because the model was \n",
    "# reacting better to the error\n",
    "\n",
    "# All the other variables were kept as I discovered that the model performed the best when the most data was provided.\n",
    "\n",
    "# Stratified data was used to fix the problem of very little fraud entries being present in comparison to non-fraudulent\n",
    "# entries\n",
    "# Methods such as under-sampling, over-sampling, and SMOTE were tried, but they lead to no signficant improvement, and\n",
    "# only complicated the code\n",
    "from sklearn.tree import DecisionTreeClassifier\n",
    "X = df[[\"step\", \"type\", \"amount\", \"oldbalanceOrg\", \"newbalanceOrig\", \"error_origin\", \"error_dest\"]]\n",
    "y = df[[\"isFraud\"]]\n",
    "X_train, X_test, y_train, y_test = train_test_split(X, y, test_size=0.3, stratify=y, random_state=100)"
   ]
  },
  {
   "cell_type": "code",
   "execution_count": 168,
   "id": "b51ebef6",
   "metadata": {},
   "outputs": [
    {
     "name": "stdout",
     "output_type": "stream",
     "text": [
      "0.9999735297904161\n"
     ]
    }
   ],
   "source": [
    "# A decision tree was used because it offered the highest accuracy, without delving into the extremely slow speeds of \n",
    "# a Random Forest Model. \n",
    "model = DecisionTreeClassifier()\n",
    "model.fit(X_train, y_train)\n",
    "print(model.score(X_test, y_test))"
   ]
  },
  {
   "cell_type": "code",
   "execution_count": 169,
   "id": "e0b38cb7",
   "metadata": {},
   "outputs": [
    {
     "name": "stdout",
     "output_type": "stream",
     "text": [
      "Feature: step, Score: 0.03371\n",
      "Feature: type, Score: 0.00035\n",
      "Feature: amount, Score: 0.11032\n",
      "Feature: oldbalanceOrg, Score: 0.15620\n",
      "Feature: newbalanceOrig, Score: 0.68359\n",
      "Feature: error_origin, Score: 0.01583\n",
      "Feature: error_dest, Score: 0.00001\n"
     ]
    },
    {
     "data": {
      "image/png": "[encoded data removed]",
      "text/plain": [
       "<Figure size 432x288 with 1 Axes>"
      ]
     },
     "metadata": {
      "needs_background": "light"
     },
     "output_type": "display_data"
    }
   ],
   "source": [
    "# get importance\n",
    "importance = model.feature_importances_\n",
    "# summarize feature importance\n",
    "for i,v in enumerate(importance):\n",
    "\tprint('Feature: %0s, Score: %.5f' % (X_train.columns[i],v))\n",
    "# plot feature importance\n",
    "plt.bar([x+1 for x in range(len(importance))], importance)\n",
    "plt.show()"
   ]
  },
  {
   "cell_type": "markdown",
   "id": "8f354eeb",
   "metadata": {},
   "source": [
    "Conclusions:\n",
    "\n",
    "From the decision tree model, it is revealed that the newbalanceOrig is the most important factor in determining whether an entry is fraudulent. This makes sense, because the goal of the fraud agents is to empty out innocent accounts using malicious transfers and cash_outs. Therefore, in many of the circumstances when 0.0 is left in a user's bank account after a cash out or transfer, a fraudulent transaction is taking place. \n",
    "\n",
    "However, it is not as easy as simply looking at the newbalanceOrig, the amount, oldbalanceOrig, and error_origin all play a significant role in predicting whether an entry is fraudulent. This makes sense because all 4 of these factors are very heavily linked. \n",
    "\n",
    "On the other hand, it is suprirising that error_dest plays barely a significant role in the prediction. I included it because having access to that data improves the accuracy of the model very slightly, but its role is almost nonexistent. This doesn't completely make sense, because the balance destinations should have just as much of a correlation and impact on the predition as the balance origins. I attribute this to the fact that a lot of the balance entries have errors in them (they don't add up mathematically). \n",
    "\n",
    "Same applies with the type of the transaction. That makes a lot of sense as a transfer and a cash_out are treated as basically the same by fraud agents. \n",
    "\n",
    "This shows us that it is possible to predict fraudulent agents of the type showed in this simulation by very heavily factoring in the amount and the original and ending balances of the user. However, in order to make the system more robust, the company should look into clarfying and solidifying the records of the balances of accounts before and after transactions. Removing errors in non-fraudulent transactions will make the errors in fraudulent transactions more obvious and easier to catch. \n",
    "Furthermore, the company should also keep a active eye out for cash-outs and transfers that empty a user's account that are made with high amounts. These are the most likely to be fraudulent. \n",
    "\n",
    "In order to test if these measures have worked, we can sample the company's transactions similar to this dataset for another period of time, track the entries marked as fraudulent, and try to determine whether it was done at an accurate rate or not. We could also try to hire malicious \"testers\" who try to get fraudulent entries by the flagging system. "
   ]
  }
 ],
 "metadata": {
  "kernelspec": {
   "display_name": "Python 3 (ipykernel)",
   "language": "python",
   "name": "python3"
  },
  "language_info": {
   "codemirror_mode": {
    "name": "ipython",
    "version": 3
   },
   "file_extension": ".py",
   "mimetype": "text/x-python",
   "name": "python",
   "nbconvert_exporter": "python",
   "pygments_lexer": "ipython3",
   "version": "3.9.7"
  }
 },
 "nbformat": 4,
 "nbformat_minor": 5
}
